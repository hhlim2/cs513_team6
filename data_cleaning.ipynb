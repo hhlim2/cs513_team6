{
  "nbformat": 4,
  "nbformat_minor": 0,
  "metadata": {
    "colab": {
      "provenance": []
    },
    "kernelspec": {
      "name": "python3",
      "display_name": "Python 3"
    },
    "language_info": {
      "name": "python"
    }
  },
  "cells": [
    {
      "cell_type": "markdown",
      "source": [
        "#Data Cleaning Actions (Python)"
      ],
      "metadata": {
        "id": "CxPvDNXuYT24"
      }
    },
    {
      "cell_type": "code",
      "execution_count": 2,
      "metadata": {
        "id": "d0DmwNFwhyjV"
      },
      "outputs": [],
      "source": [
        "import pandas as pd\n",
        "import math"
      ]
    },
    {
      "cell_type": "code",
      "source": [
        "!git clone https://github.com/hhlim2/cs513_team6.git"
      ],
      "metadata": {
        "colab": {
          "base_uri": "https://localhost:8080/"
        },
        "id": "nMNYLxwTH_yR",
        "outputId": "b6c076d8-c731-4994-aaf3-035b978491b4"
      },
      "execution_count": 1,
      "outputs": [
        {
          "output_type": "stream",
          "name": "stdout",
          "text": [
            "Cloning into 'cs513_team6'...\n",
            "remote: Enumerating objects: 7, done.\u001b[K\n",
            "remote: Counting objects: 100% (7/7), done.\u001b[K\n",
            "remote: Compressing objects: 100% (7/7), done.\u001b[K\n",
            "remote: Total 7 (delta 2), reused 0 (delta 0), pack-reused 0\u001b[K\n",
            "Receiving objects: 100% (7/7), 7.63 MiB | 10.96 MiB/s, done.\n",
            "Resolving deltas: 100% (2/2), done.\n"
          ]
        }
      ]
    },
    {
      "cell_type": "code",
      "source": [
        "# upload data-cleaning-dish.csv file in files tab\n",
        "\n",
        "dish_df = pd.read_csv('/content/cs513_team6/Dish-Jul15.csv')\n",
        "dish_df.head()"
      ],
      "metadata": {
        "colab": {
          "base_uri": "https://localhost:8080/",
          "height": 206
        },
        "id": "tTOLyvdeh3a2",
        "outputId": "17fa5c34-a89c-4de6-edb2-f24003e56f5b"
      },
      "execution_count": 3,
      "outputs": [
        {
          "output_type": "execute_result",
          "data": {
            "text/plain": [
              "    id                                 name name_cluster_coffee  \\\n",
              "0   96                               Coffee              coffee   \n",
              "1  118                  Large pot of coffee        coffee (pot)   \n",
              "2  119  Cup of coffee (served in small pot)              coffee   \n",
              "3  174                           Demi-tasse            espresso   \n",
              "4  321                       Tea and Coffee              coffee   \n",
              "\n",
              "   name_cluster_contains_coffee  menus_appeared  times_appeared  \\\n",
              "0                             1            7740            8484   \n",
              "1                             1               5               5   \n",
              "2                             1               1               1   \n",
              "3                             1             851             878   \n",
              "4                             1              42              42   \n",
              "\n",
              "   first_appeared  last_appeared  lowest_price  lowest_price_missing  \\\n",
              "0               1           2928           0.0                 False   \n",
              "1            1900           1963           0.0                 False   \n",
              "2            1900           1900           0.0                 False   \n",
              "3            1892           1979           0.0                 False   \n",
              "4            1900           1937           0.1                 False   \n",
              "\n",
              "   highest_price  highest_price_missing  \n",
              "0           30.0                  False  \n",
              "1            0.2                  False  \n",
              "2            0.0                  False  \n",
              "3           15.0                  False  \n",
              "4            0.1                  False  "
            ],
            "text/html": [
              "\n",
              "  <div id=\"df-563cc069-5e72-43d4-b896-e9b0fb344e1d\" class=\"colab-df-container\">\n",
              "    <div>\n",
              "<style scoped>\n",
              "    .dataframe tbody tr th:only-of-type {\n",
              "        vertical-align: middle;\n",
              "    }\n",
              "\n",
              "    .dataframe tbody tr th {\n",
              "        vertical-align: top;\n",
              "    }\n",
              "\n",
              "    .dataframe thead th {\n",
              "        text-align: right;\n",
              "    }\n",
              "</style>\n",
              "<table border=\"1\" class=\"dataframe\">\n",
              "  <thead>\n",
              "    <tr style=\"text-align: right;\">\n",
              "      <th></th>\n",
              "      <th>id</th>\n",
              "      <th>name</th>\n",
              "      <th>name_cluster_coffee</th>\n",
              "      <th>name_cluster_contains_coffee</th>\n",
              "      <th>menus_appeared</th>\n",
              "      <th>times_appeared</th>\n",
              "      <th>first_appeared</th>\n",
              "      <th>last_appeared</th>\n",
              "      <th>lowest_price</th>\n",
              "      <th>lowest_price_missing</th>\n",
              "      <th>highest_price</th>\n",
              "      <th>highest_price_missing</th>\n",
              "    </tr>\n",
              "  </thead>\n",
              "  <tbody>\n",
              "    <tr>\n",
              "      <th>0</th>\n",
              "      <td>96</td>\n",
              "      <td>Coffee</td>\n",
              "      <td>coffee</td>\n",
              "      <td>1</td>\n",
              "      <td>7740</td>\n",
              "      <td>8484</td>\n",
              "      <td>1</td>\n",
              "      <td>2928</td>\n",
              "      <td>0.0</td>\n",
              "      <td>False</td>\n",
              "      <td>30.0</td>\n",
              "      <td>False</td>\n",
              "    </tr>\n",
              "    <tr>\n",
              "      <th>1</th>\n",
              "      <td>118</td>\n",
              "      <td>Large pot of coffee</td>\n",
              "      <td>coffee (pot)</td>\n",
              "      <td>1</td>\n",
              "      <td>5</td>\n",
              "      <td>5</td>\n",
              "      <td>1900</td>\n",
              "      <td>1963</td>\n",
              "      <td>0.0</td>\n",
              "      <td>False</td>\n",
              "      <td>0.2</td>\n",
              "      <td>False</td>\n",
              "    </tr>\n",
              "    <tr>\n",
              "      <th>2</th>\n",
              "      <td>119</td>\n",
              "      <td>Cup of coffee (served in small pot)</td>\n",
              "      <td>coffee</td>\n",
              "      <td>1</td>\n",
              "      <td>1</td>\n",
              "      <td>1</td>\n",
              "      <td>1900</td>\n",
              "      <td>1900</td>\n",
              "      <td>0.0</td>\n",
              "      <td>False</td>\n",
              "      <td>0.0</td>\n",
              "      <td>False</td>\n",
              "    </tr>\n",
              "    <tr>\n",
              "      <th>3</th>\n",
              "      <td>174</td>\n",
              "      <td>Demi-tasse</td>\n",
              "      <td>espresso</td>\n",
              "      <td>1</td>\n",
              "      <td>851</td>\n",
              "      <td>878</td>\n",
              "      <td>1892</td>\n",
              "      <td>1979</td>\n",
              "      <td>0.0</td>\n",
              "      <td>False</td>\n",
              "      <td>15.0</td>\n",
              "      <td>False</td>\n",
              "    </tr>\n",
              "    <tr>\n",
              "      <th>4</th>\n",
              "      <td>321</td>\n",
              "      <td>Tea and Coffee</td>\n",
              "      <td>coffee</td>\n",
              "      <td>1</td>\n",
              "      <td>42</td>\n",
              "      <td>42</td>\n",
              "      <td>1900</td>\n",
              "      <td>1937</td>\n",
              "      <td>0.1</td>\n",
              "      <td>False</td>\n",
              "      <td>0.1</td>\n",
              "      <td>False</td>\n",
              "    </tr>\n",
              "  </tbody>\n",
              "</table>\n",
              "</div>\n",
              "    <div class=\"colab-df-buttons\">\n",
              "\n",
              "  <div class=\"colab-df-container\">\n",
              "    <button class=\"colab-df-convert\" onclick=\"convertToInteractive('df-563cc069-5e72-43d4-b896-e9b0fb344e1d')\"\n",
              "            title=\"Convert this dataframe to an interactive table.\"\n",
              "            style=\"display:none;\">\n",
              "\n",
              "  <svg xmlns=\"http://www.w3.org/2000/svg\" height=\"24px\" viewBox=\"0 -960 960 960\">\n",
              "    <path d=\"M120-120v-720h720v720H120Zm60-500h600v-160H180v160Zm220 220h160v-160H400v160Zm0 220h160v-160H400v160ZM180-400h160v-160H180v160Zm440 0h160v-160H620v160ZM180-180h160v-160H180v160Zm440 0h160v-160H620v160Z\"/>\n",
              "  </svg>\n",
              "    </button>\n",
              "\n",
              "  <style>\n",
              "    .colab-df-container {\n",
              "      display:flex;\n",
              "      gap: 12px;\n",
              "    }\n",
              "\n",
              "    .colab-df-convert {\n",
              "      background-color: #E8F0FE;\n",
              "      border: none;\n",
              "      border-radius: 50%;\n",
              "      cursor: pointer;\n",
              "      display: none;\n",
              "      fill: #1967D2;\n",
              "      height: 32px;\n",
              "      padding: 0 0 0 0;\n",
              "      width: 32px;\n",
              "    }\n",
              "\n",
              "    .colab-df-convert:hover {\n",
              "      background-color: #E2EBFA;\n",
              "      box-shadow: 0px 1px 2px rgba(60, 64, 67, 0.3), 0px 1px 3px 1px rgba(60, 64, 67, 0.15);\n",
              "      fill: #174EA6;\n",
              "    }\n",
              "\n",
              "    .colab-df-buttons div {\n",
              "      margin-bottom: 4px;\n",
              "    }\n",
              "\n",
              "    [theme=dark] .colab-df-convert {\n",
              "      background-color: #3B4455;\n",
              "      fill: #D2E3FC;\n",
              "    }\n",
              "\n",
              "    [theme=dark] .colab-df-convert:hover {\n",
              "      background-color: #434B5C;\n",
              "      box-shadow: 0px 1px 3px 1px rgba(0, 0, 0, 0.15);\n",
              "      filter: drop-shadow(0px 1px 2px rgba(0, 0, 0, 0.3));\n",
              "      fill: #FFFFFF;\n",
              "    }\n",
              "  </style>\n",
              "\n",
              "    <script>\n",
              "      const buttonEl =\n",
              "        document.querySelector('#df-563cc069-5e72-43d4-b896-e9b0fb344e1d button.colab-df-convert');\n",
              "      buttonEl.style.display =\n",
              "        google.colab.kernel.accessAllowed ? 'block' : 'none';\n",
              "\n",
              "      async function convertToInteractive(key) {\n",
              "        const element = document.querySelector('#df-563cc069-5e72-43d4-b896-e9b0fb344e1d');\n",
              "        const dataTable =\n",
              "          await google.colab.kernel.invokeFunction('convertToInteractive',\n",
              "                                                    [key], {});\n",
              "        if (!dataTable) return;\n",
              "\n",
              "        const docLinkHtml = 'Like what you see? Visit the ' +\n",
              "          '<a target=\"_blank\" href=https://colab.research.google.com/notebooks/data_table.ipynb>data table notebook</a>'\n",
              "          + ' to learn more about interactive tables.';\n",
              "        element.innerHTML = '';\n",
              "        dataTable['output_type'] = 'display_data';\n",
              "        await google.colab.output.renderOutput(dataTable, element);\n",
              "        const docLink = document.createElement('div');\n",
              "        docLink.innerHTML = docLinkHtml;\n",
              "        element.appendChild(docLink);\n",
              "      }\n",
              "    </script>\n",
              "  </div>\n",
              "\n",
              "\n",
              "<div id=\"df-c2a273bc-fb36-450a-b3ec-c3cee6c47ea4\">\n",
              "  <button class=\"colab-df-quickchart\" onclick=\"quickchart('df-c2a273bc-fb36-450a-b3ec-c3cee6c47ea4')\"\n",
              "            title=\"Suggest charts\"\n",
              "            style=\"display:none;\">\n",
              "\n",
              "<svg xmlns=\"http://www.w3.org/2000/svg\" height=\"24px\"viewBox=\"0 0 24 24\"\n",
              "     width=\"24px\">\n",
              "    <g>\n",
              "        <path d=\"M19 3H5c-1.1 0-2 .9-2 2v14c0 1.1.9 2 2 2h14c1.1 0 2-.9 2-2V5c0-1.1-.9-2-2-2zM9 17H7v-7h2v7zm4 0h-2V7h2v10zm4 0h-2v-4h2v4z\"/>\n",
              "    </g>\n",
              "</svg>\n",
              "  </button>\n",
              "\n",
              "<style>\n",
              "  .colab-df-quickchart {\n",
              "      --bg-color: #E8F0FE;\n",
              "      --fill-color: #1967D2;\n",
              "      --hover-bg-color: #E2EBFA;\n",
              "      --hover-fill-color: #174EA6;\n",
              "      --disabled-fill-color: #AAA;\n",
              "      --disabled-bg-color: #DDD;\n",
              "  }\n",
              "\n",
              "  [theme=dark] .colab-df-quickchart {\n",
              "      --bg-color: #3B4455;\n",
              "      --fill-color: #D2E3FC;\n",
              "      --hover-bg-color: #434B5C;\n",
              "      --hover-fill-color: #FFFFFF;\n",
              "      --disabled-bg-color: #3B4455;\n",
              "      --disabled-fill-color: #666;\n",
              "  }\n",
              "\n",
              "  .colab-df-quickchart {\n",
              "    background-color: var(--bg-color);\n",
              "    border: none;\n",
              "    border-radius: 50%;\n",
              "    cursor: pointer;\n",
              "    display: none;\n",
              "    fill: var(--fill-color);\n",
              "    height: 32px;\n",
              "    padding: 0;\n",
              "    width: 32px;\n",
              "  }\n",
              "\n",
              "  .colab-df-quickchart:hover {\n",
              "    background-color: var(--hover-bg-color);\n",
              "    box-shadow: 0 1px 2px rgba(60, 64, 67, 0.3), 0 1px 3px 1px rgba(60, 64, 67, 0.15);\n",
              "    fill: var(--button-hover-fill-color);\n",
              "  }\n",
              "\n",
              "  .colab-df-quickchart-complete:disabled,\n",
              "  .colab-df-quickchart-complete:disabled:hover {\n",
              "    background-color: var(--disabled-bg-color);\n",
              "    fill: var(--disabled-fill-color);\n",
              "    box-shadow: none;\n",
              "  }\n",
              "\n",
              "  .colab-df-spinner {\n",
              "    border: 2px solid var(--fill-color);\n",
              "    border-color: transparent;\n",
              "    border-bottom-color: var(--fill-color);\n",
              "    animation:\n",
              "      spin 1s steps(1) infinite;\n",
              "  }\n",
              "\n",
              "  @keyframes spin {\n",
              "    0% {\n",
              "      border-color: transparent;\n",
              "      border-bottom-color: var(--fill-color);\n",
              "      border-left-color: var(--fill-color);\n",
              "    }\n",
              "    20% {\n",
              "      border-color: transparent;\n",
              "      border-left-color: var(--fill-color);\n",
              "      border-top-color: var(--fill-color);\n",
              "    }\n",
              "    30% {\n",
              "      border-color: transparent;\n",
              "      border-left-color: var(--fill-color);\n",
              "      border-top-color: var(--fill-color);\n",
              "      border-right-color: var(--fill-color);\n",
              "    }\n",
              "    40% {\n",
              "      border-color: transparent;\n",
              "      border-right-color: var(--fill-color);\n",
              "      border-top-color: var(--fill-color);\n",
              "    }\n",
              "    60% {\n",
              "      border-color: transparent;\n",
              "      border-right-color: var(--fill-color);\n",
              "    }\n",
              "    80% {\n",
              "      border-color: transparent;\n",
              "      border-right-color: var(--fill-color);\n",
              "      border-bottom-color: var(--fill-color);\n",
              "    }\n",
              "    90% {\n",
              "      border-color: transparent;\n",
              "      border-bottom-color: var(--fill-color);\n",
              "    }\n",
              "  }\n",
              "</style>\n",
              "\n",
              "  <script>\n",
              "    async function quickchart(key) {\n",
              "      const quickchartButtonEl =\n",
              "        document.querySelector('#' + key + ' button');\n",
              "      quickchartButtonEl.disabled = true;  // To prevent multiple clicks.\n",
              "      quickchartButtonEl.classList.add('colab-df-spinner');\n",
              "      try {\n",
              "        const charts = await google.colab.kernel.invokeFunction(\n",
              "            'suggestCharts', [key], {});\n",
              "      } catch (error) {\n",
              "        console.error('Error during call to suggestCharts:', error);\n",
              "      }\n",
              "      quickchartButtonEl.classList.remove('colab-df-spinner');\n",
              "      quickchartButtonEl.classList.add('colab-df-quickchart-complete');\n",
              "    }\n",
              "    (() => {\n",
              "      let quickchartButtonEl =\n",
              "        document.querySelector('#df-c2a273bc-fb36-450a-b3ec-c3cee6c47ea4 button');\n",
              "      quickchartButtonEl.style.display =\n",
              "        google.colab.kernel.accessAllowed ? 'block' : 'none';\n",
              "    })();\n",
              "  </script>\n",
              "</div>\n",
              "\n",
              "    </div>\n",
              "  </div>\n"
            ],
            "application/vnd.google.colaboratory.intrinsic+json": {
              "type": "dataframe",
              "variable_name": "dish_df",
              "summary": "{\n  \"name\": \"dish_df\",\n  \"rows\": 6110,\n  \"fields\": [\n    {\n      \"column\": \"id\",\n      \"properties\": {\n        \"dtype\": \"number\",\n        \"std\": 134136,\n        \"min\": 96,\n        \"max\": 515564,\n        \"num_unique_values\": 6110,\n        \"samples\": [\n          157382,\n          272217,\n          512083\n        ],\n        \"semantic_type\": \"\",\n        \"description\": \"\"\n      }\n    },\n    {\n      \"column\": \"name\",\n      \"properties\": {\n        \"dtype\": \"string\",\n        \"num_unique_values\": 6036,\n        \"samples\": [\n          \"[Coffee] Pot for one\",\n          \"Caf\\u00e9 Viennois\",\n          \"Chef's Special Luncheon - Broiled Breast of Spring Lamb Persille, Boulangere Potato and Lima Beans, Lemon Chiffon Pie, Coffee, Milk or Tea\"\n        ],\n        \"semantic_type\": \"\",\n        \"description\": \"\"\n      }\n    },\n    {\n      \"column\": \"name_cluster_coffee\",\n      \"properties\": {\n        \"dtype\": \"category\",\n        \"num_unique_values\": 98,\n        \"samples\": [\n          \"iced frappe (coffee)\",\n          \"mocha pudding\",\n          \"mocha sundae\"\n        ],\n        \"semantic_type\": \"\",\n        \"description\": \"\"\n      }\n    },\n    {\n      \"column\": \"name_cluster_contains_coffee\",\n      \"properties\": {\n        \"dtype\": \"number\",\n        \"std\": 0,\n        \"min\": 1,\n        \"max\": 1,\n        \"num_unique_values\": 1,\n        \"samples\": [\n          1\n        ],\n        \"semantic_type\": \"\",\n        \"description\": \"\"\n      }\n    },\n    {\n      \"column\": \"menus_appeared\",\n      \"properties\": {\n        \"dtype\": \"number\",\n        \"std\": 102,\n        \"min\": 0,\n        \"max\": 7740,\n        \"num_unique_values\": 91,\n        \"samples\": [\n          260\n        ],\n        \"semantic_type\": \"\",\n        \"description\": \"\"\n      }\n    },\n    {\n      \"column\": \"times_appeared\",\n      \"properties\": {\n        \"dtype\": \"number\",\n        \"std\": 112,\n        \"min\": 0,\n        \"max\": 8484,\n        \"num_unique_values\": 94,\n        \"samples\": [\n          15\n        ],\n        \"semantic_type\": \"\",\n        \"description\": \"\"\n      }\n    },\n    {\n      \"column\": \"first_appeared\",\n      \"properties\": {\n        \"dtype\": \"number\",\n        \"std\": 679,\n        \"min\": 0,\n        \"max\": 2012,\n        \"num_unique_values\": 118,\n        \"samples\": [\n          1947\n        ],\n        \"semantic_type\": \"\",\n        \"description\": \"\"\n      }\n    },\n    {\n      \"column\": \"last_appeared\",\n      \"properties\": {\n        \"dtype\": \"number\",\n        \"std\": 679,\n        \"min\": 0,\n        \"max\": 2928,\n        \"num_unique_values\": 111,\n        \"samples\": [\n          1996\n        ],\n        \"semantic_type\": \"\",\n        \"description\": \"\"\n      }\n    },\n    {\n      \"column\": \"lowest_price\",\n      \"properties\": {\n        \"dtype\": \"number\",\n        \"std\": 2.548176817079498,\n        \"min\": 0.0,\n        \"max\": 150.0,\n        \"num_unique_values\": 123,\n        \"samples\": [\n          0.75\n        ],\n        \"semantic_type\": \"\",\n        \"description\": \"\"\n      }\n    },\n    {\n      \"column\": \"lowest_price_missing\",\n      \"properties\": {\n        \"dtype\": \"boolean\",\n        \"num_unique_values\": 1,\n        \"samples\": [\n          false\n        ],\n        \"semantic_type\": \"\",\n        \"description\": \"\"\n      }\n    },\n    {\n      \"column\": \"highest_price\",\n      \"properties\": {\n        \"dtype\": \"number\",\n        \"std\": 13.294787579983694,\n        \"min\": 0.0,\n        \"max\": 1000.0,\n        \"num_unique_values\": 128,\n        \"samples\": [\n          13.0\n        ],\n        \"semantic_type\": \"\",\n        \"description\": \"\"\n      }\n    },\n    {\n      \"column\": \"highest_price_missing\",\n      \"properties\": {\n        \"dtype\": \"boolean\",\n        \"num_unique_values\": 1,\n        \"samples\": [\n          false\n        ],\n        \"semantic_type\": \"\",\n        \"description\": \"\"\n      }\n    }\n  ]\n}"
            }
          },
          "metadata": {},
          "execution_count": 3
        }
      ]
    },
    {
      "cell_type": "markdown",
      "source": [
        "## Enforce menus_appeared Integrity Constraints\n",
        "\n",
        "1.   Data type constraint integer must be met\n",
        "2. Value cannot be negative\n",
        "3. Value must be at least 1\n",
        "4. Value cannot be more than 17545 (no. of records in Menu table, counted by Excel)\n"
      ],
      "metadata": {
        "id": "jKsipuyfYndR"
      }
    },
    {
      "cell_type": "code",
      "source": [
        "dish_df['menus_appeared'].describe()"
      ],
      "metadata": {
        "colab": {
          "base_uri": "https://localhost:8080/"
        },
        "id": "jSa-K-4oYnNc",
        "outputId": "2a4f14e8-2db2-4a26-f08a-2902f7f8cf83"
      },
      "execution_count": 4,
      "outputs": [
        {
          "output_type": "execute_result",
          "data": {
            "text/plain": [
              "count    6110.000000\n",
              "mean        4.929460\n",
              "std       102.689166\n",
              "min         0.000000\n",
              "25%         1.000000\n",
              "50%         1.000000\n",
              "75%         1.000000\n",
              "max      7740.000000\n",
              "Name: menus_appeared, dtype: float64"
            ]
          },
          "metadata": {},
          "execution_count": 4
        }
      ]
    },
    {
      "cell_type": "code",
      "source": [
        "dish_df.loc[dish_df['menus_appeared'] == 0, 'menus_appeared'] = 1"
      ],
      "metadata": {
        "id": "i1X5-MMQY6D_"
      },
      "execution_count": 5,
      "outputs": []
    },
    {
      "cell_type": "code",
      "source": [
        "dish_df['menus_appeared'].describe()"
      ],
      "metadata": {
        "colab": {
          "base_uri": "https://localhost:8080/"
        },
        "id": "WiQEGQHyZC90",
        "outputId": "e71f1502-7a5e-47b6-ad73-d5a212e5d4dc"
      },
      "execution_count": 6,
      "outputs": [
        {
          "output_type": "execute_result",
          "data": {
            "text/plain": [
              "count    6110.000000\n",
              "mean        4.936007\n",
              "std       102.688883\n",
              "min         1.000000\n",
              "25%         1.000000\n",
              "50%         1.000000\n",
              "75%         1.000000\n",
              "max      7740.000000\n",
              "Name: menus_appeared, dtype: float64"
            ]
          },
          "metadata": {},
          "execution_count": 6
        }
      ]
    },
    {
      "cell_type": "markdown",
      "source": [
        "## Enforce first_appeared Integrity Constraints\n",
        "1. Data type constraint year of format YYYY must be met i.e. each Y is a digit\n",
        "2. Value must start with either 1 or 2 as the first digit\n",
        "3. Value must be at least 1840 (based on narrative description of dataset on NYPL menus website)\n",
        "4. Value cannot be greater than 2021 (the year in which the dataset D was uploaded to Box, which we assume to be the year it was downloaded from NYPL)\n",
        "5. Value must be smaller or equal to last_appeared in the same record\n",
        "\n"
      ],
      "metadata": {
        "id": "1updljGKYXKQ"
      }
    },
    {
      "cell_type": "code",
      "source": [
        "dish_df['first_appeared'].describe()"
      ],
      "metadata": {
        "colab": {
          "base_uri": "https://localhost:8080/"
        },
        "id": "fBCqpltYZLdT",
        "outputId": "7867fdc5-cdca-4674-fd9f-446fdb13d063"
      },
      "execution_count": 7,
      "outputs": [
        {
          "output_type": "execute_result",
          "data": {
            "text/plain": [
              "count    6110.000000\n",
              "mean     1656.781997\n",
              "std       679.643346\n",
              "min         0.000000\n",
              "25%      1900.000000\n",
              "50%      1931.000000\n",
              "75%      1953.000000\n",
              "max      2012.000000\n",
              "Name: first_appeared, dtype: float64"
            ]
          },
          "metadata": {},
          "execution_count": 7
        }
      ]
    },
    {
      "cell_type": "code",
      "source": [
        "#fix first_appeared data\n",
        "first_appeared_fixed = dish_df['first_appeared'].values.tolist()\n",
        "\n",
        "for i in range(len(dish_df)):\n",
        "  if first_appeared_fixed[i] < 1840:\n",
        "      first_appeared_fixed[i] = 1840\n",
        "  if first_appeared_fixed[i] > 2021:\n",
        "      first_appeared_fixed[i] = dish_df['last_appeared'][i]\n",
        "\n",
        "# print(len(first_appeared_fixed))\n",
        "\n",
        "# print(sorted(first_appeared_fixed))\n",
        "\n",
        "#save fixed data to dataframe\n",
        "dish_df['first_appeared_fixed'] = first_appeared_fixed"
      ],
      "metadata": {
        "id": "tEpy-6IBiGUE"
      },
      "execution_count": 17,
      "outputs": []
    },
    {
      "cell_type": "code",
      "source": [
        "dish_df['first_appeared_fixed'].describe()"
      ],
      "metadata": {
        "colab": {
          "base_uri": "https://localhost:8080/"
        },
        "id": "SRMyPMcWZXRs",
        "outputId": "0281f4d6-ff1e-4a46-85f6-37aaf451cf0e"
      },
      "execution_count": 18,
      "outputs": [
        {
          "output_type": "execute_result",
          "data": {
            "text/plain": [
              "count    6110.000000\n",
              "mean     1921.488216\n",
              "std        41.356094\n",
              "min      1840.000000\n",
              "25%      1900.000000\n",
              "50%      1931.000000\n",
              "75%      1953.000000\n",
              "max      2012.000000\n",
              "Name: first_appeared_fixed, dtype: float64"
            ]
          },
          "metadata": {},
          "execution_count": 18
        }
      ]
    },
    {
      "cell_type": "markdown",
      "source": [
        "## Enforce last_appeared Integrity Constraints\n",
        "1. Data type constraint year of format YYYY must be met i.e. each Y is a digit\n",
        "2. Value must start with either 1 or 2 as the first digit\n",
        "3. Value must be at least 1840 (based on narrative description of dataset on NYPL menus website)\n",
        "4. Value cannot be greater than 2021 (the year in which the dataset D was uploaded to Box, which we assume to be the year it was downloaded from NYPL)\n",
        "5. Value must be smaller or equal to last_appeared in the same record"
      ],
      "metadata": {
        "id": "dsaAqdMtZevR"
      }
    },
    {
      "cell_type": "code",
      "source": [
        "dish_df['last_appeared'].describe()"
      ],
      "metadata": {
        "colab": {
          "base_uri": "https://localhost:8080/"
        },
        "id": "XjGBXHbAZxFj",
        "outputId": "5cc052fd-ee6d-48a1-e092-5ef2c5c9135f"
      },
      "execution_count": 10,
      "outputs": [
        {
          "output_type": "execute_result",
          "data": {
            "text/plain": [
              "count    6110.000000\n",
              "mean     1661.134206\n",
              "std       679.286385\n",
              "min         0.000000\n",
              "25%      1905.000000\n",
              "50%      1933.000000\n",
              "75%      1957.000000\n",
              "max      2928.000000\n",
              "Name: last_appeared, dtype: float64"
            ]
          },
          "metadata": {},
          "execution_count": 10
        }
      ]
    },
    {
      "cell_type": "code",
      "source": [
        "#fix last_appeared data\n",
        "last_appeared_fixed = dish_df['last_appeared'].values.tolist()\n",
        "\n",
        "for i in range(len(dish_df)):\n",
        "  if last_appeared_fixed[i] < 1840:\n",
        "    last_appeared_fixed[i] = first_appeared_fixed[i]\n",
        "  if last_appeared_fixed[i] > 2021:\n",
        "    last_appeared_fixed[i] = 2021\n",
        "\n",
        "\n",
        "# print(len(last_appeared_fixed))\n",
        "\n",
        "# print(sorted(last_appeared_fixed))\n",
        "# print(last_appeared_fixed)\n",
        "\n",
        "#save fixed data to dataframe\n",
        "dish_df['last_appeared_fixed'] = last_appeared_fixed"
      ],
      "metadata": {
        "id": "_R8uOYmAiyaJ"
      },
      "execution_count": 22,
      "outputs": []
    },
    {
      "cell_type": "code",
      "source": [
        "dish_df['last_appeared_fixed'].describe()"
      ],
      "metadata": {
        "colab": {
          "base_uri": "https://localhost:8080/"
        },
        "id": "JnX7hnGHi5Fw",
        "outputId": "5dfb12e7-ed83-42cd-f06d-21bf21d75bb9"
      },
      "execution_count": 23,
      "outputs": [
        {
          "output_type": "execute_result",
          "data": {
            "text/plain": [
              "count    6110.000000\n",
              "mean     1924.203437\n",
              "std        42.194403\n",
              "min      1840.000000\n",
              "25%      1905.000000\n",
              "50%      1933.000000\n",
              "75%      1957.000000\n",
              "max      2021.000000\n",
              "Name: last_appeared_fixed, dtype: float64"
            ]
          },
          "metadata": {},
          "execution_count": 23
        }
      ]
    },
    {
      "cell_type": "code",
      "source": [
        "# check that all first appeared years are less than or equal to last appeared years\n",
        "(dish_df['first_appeared_fixed'] > dish_df['last_appeared_fixed']).value_counts()\n"
      ],
      "metadata": {
        "colab": {
          "base_uri": "https://localhost:8080/"
        },
        "id": "JHhLlWQgl-Ru",
        "outputId": "f600c84f-941b-4630-ec84-fea08ddaee74"
      },
      "execution_count": 24,
      "outputs": [
        {
          "output_type": "execute_result",
          "data": {
            "text/plain": [
              "False    6110\n",
              "Name: count, dtype: int64"
            ]
          },
          "metadata": {},
          "execution_count": 24
        }
      ]
    },
    {
      "cell_type": "markdown",
      "source": [
        "## Enforce lowest_price Integrity Constraints\n",
        "\n",
        "1. Data type constraint float must be met\n",
        "2. Value cannot be negative or 0\n",
        "3. Value must be smaller or equal to highest_price in the same record\n"
      ],
      "metadata": {
        "id": "6_6gd5uaaQpv"
      }
    },
    {
      "cell_type": "code",
      "source": [
        "dish_df['lowest_price'].describe()"
      ],
      "metadata": {
        "colab": {
          "base_uri": "https://localhost:8080/"
        },
        "id": "YmviqIRrkkbD",
        "outputId": "106e8159-114f-455c-fb84-f9dc20e5ede3"
      },
      "execution_count": 25,
      "outputs": [
        {
          "output_type": "execute_result",
          "data": {
            "text/plain": [
              "count    6110.000000\n",
              "mean        0.443692\n",
              "std         2.548177\n",
              "min         0.000000\n",
              "25%         0.000000\n",
              "50%         0.000000\n",
              "75%         0.250000\n",
              "max       150.000000\n",
              "Name: lowest_price, dtype: float64"
            ]
          },
          "metadata": {},
          "execution_count": 25
        }
      ]
    },
    {
      "cell_type": "markdown",
      "source": [
        "## Enforce highest_price Integrity Constraints\n",
        "\n",
        "1. Data type constraint float must be met\n",
        "2. Value cannot be negative or 0\n",
        "3. Value must be larger or equal to lowest_price in the same record\n"
      ],
      "metadata": {
        "id": "AeETBhR0acS1"
      }
    },
    {
      "cell_type": "code",
      "source": [
        "dish_df['highest_price'].describe()"
      ],
      "metadata": {
        "colab": {
          "base_uri": "https://localhost:8080/"
        },
        "id": "0ryQI3ATkj5V",
        "outputId": "ca5afff8-def0-42f2-e004-66de21160ab1"
      },
      "execution_count": 26,
      "outputs": [
        {
          "output_type": "execute_result",
          "data": {
            "text/plain": [
              "count    6110.000000\n",
              "mean        0.886643\n",
              "std        13.294788\n",
              "min         0.000000\n",
              "25%         0.000000\n",
              "50%         0.050000\n",
              "75%         0.347500\n",
              "max      1000.000000\n",
              "Name: highest_price, dtype: float64"
            ]
          },
          "metadata": {},
          "execution_count": 26
        }
      ]
    },
    {
      "cell_type": "code",
      "source": [
        "(dish_df['lowest_price'] <= dish_df['highest_price']).value_counts()"
      ],
      "metadata": {
        "colab": {
          "base_uri": "https://localhost:8080/"
        },
        "id": "1kmmZYqvkj2v",
        "outputId": "32e3aad9-c30c-4b5b-f91b-61e9bbeb26b7"
      },
      "execution_count": 27,
      "outputs": [
        {
          "output_type": "execute_result",
          "data": {
            "text/plain": [
              "True    6110\n",
              "Name: count, dtype: int64"
            ]
          },
          "metadata": {},
          "execution_count": 27
        }
      ]
    },
    {
      "cell_type": "code",
      "source": [],
      "metadata": {
        "id": "oX8qwskmkjzi"
      },
      "execution_count": 27,
      "outputs": []
    },
    {
      "cell_type": "code",
      "source": [],
      "metadata": {
        "id": "LGrQMf5ukjun"
      },
      "execution_count": 27,
      "outputs": []
    },
    {
      "cell_type": "code",
      "source": [
        "#Save final cleaned dataset\n",
        "dish_df.to_csv('/content/Data-Cleaning-Dish_Final_15Jul.csv')"
      ],
      "metadata": {
        "id": "1wtfpooMnQOf"
      },
      "execution_count": 28,
      "outputs": []
    },
    {
      "cell_type": "code",
      "source": [],
      "metadata": {
        "id": "14QTuGEsnzPl"
      },
      "execution_count": null,
      "outputs": []
    }
  ]
}
